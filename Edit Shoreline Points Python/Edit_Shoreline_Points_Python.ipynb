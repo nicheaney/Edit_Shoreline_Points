{
 "cells": [
  {
   "cell_type": "markdown",
   "metadata": {},
   "source": [
    "## Edit Shoreline Points\n",
    "This notebook presents the Python alternatives to the critical functions used in CoastSnap for refining the shoreline points. See the Edit_Shoreline_Points_MATLAB notebook for more information on the MATLAB functions."
   ]
  },
  {
   "cell_type": "markdown",
   "metadata": {},
   "source": [
    "### 1. Retrieve shoreline points' coordinates."
   ]
  },
  {
   "cell_type": "markdown",
   "metadata": {},
   "source": [
    "These have been determined at a location along each transect. This data has been borrowed from the MATLAB notebook."
   ]
  },
  {
   "cell_type": "code",
   "execution_count": 1,
   "metadata": {},
   "outputs": [],
   "source": [
    "#import the required modules\n",
    "import scipy.io\n",
    "import matplotlib.pyplot as plt\n",
    "from matplotlib.patches import Polygon\n",
    "\n",
    "#load the variables to be used from MATLAB\n",
    "mat1 = scipy.io.loadmat('Edit_Shoreline_Python.mat')\n",
    "mat2 = scipy.io.loadmat('AxesImage4Handles.mat')\n",
    "\n",
    "#define the variables loaded from MATLAB\n",
    "RectImage = mat2['RectImage']\n",
    "sl_xyz = mat1['sl_xyz']\n",
    "\n",
    "#only the x and y coordinates of the shoreline points are required:\n",
    "sl_xy = sl_xyz[:,0:2]\n",
    "\n",
    "#during this initial test, the image data is not in real world coordinates, so the shoreline coordinates also\n",
    "#need to be calibrated using the calculations below ****(this should be fixed asap, once the code is works)****\n",
    "sl_xy[:,0] = (sl_xy[:,0]+400)*2\n",
    "sl_xy[:,1] = (sl_xy[:,1])*2"
   ]
  },
  {
   "cell_type": "markdown",
   "metadata": {},
   "source": [
    "### 2. Retrieve the plan image and plot these individual shoreline points on it."
   ]
  },
  {
   "cell_type": "markdown",
   "metadata": {},
   "source": [
    "Plot the plan image:"
   ]
  },
  {
   "cell_type": "code",
   "execution_count": 2,
   "metadata": {},
   "outputs": [
    {
     "data": {
      "text/plain": [
       "<matplotlib.image.AxesImage at 0x7feae9b368b0>"
      ]
     },
     "execution_count": 2,
     "metadata": {},
     "output_type": "execute_result"
    }
   ],
   "source": [
    "# create figure and axes\n",
    "%matplotlib qt\n",
    "fig, ax = plt.subplots()\n",
    "\n",
    "# plot the image onto these axes\n",
    "ax.imshow(RectImage)"
   ]
  },
  {
   "cell_type": "markdown",
   "metadata": {},
   "source": [
    "Plot the shoreline onto the same axes:"
   ]
  },
  {
   "cell_type": "code",
   "execution_count": 3,
   "metadata": {},
   "outputs": [
    {
     "data": {
      "text/plain": [
       "<matplotlib.patches.Polygon at 0x7feaebf99190>"
      ]
     },
     "execution_count": 3,
     "metadata": {},
     "output_type": "execute_result"
    }
   ],
   "source": [
    "#define the shorline using the shoreline points' x and y coordinates\n",
    "sl_poly = Polygon(sl_xy, closed=False, fill=False)\n",
    "\n",
    "# plot shoreline (contained in sl_poly) over the plan\n",
    "ax.add_patch(sl_poly)"
   ]
  },
  {
   "cell_type": "markdown",
   "metadata": {},
   "source": [
    "### 3. Adjust the shoreline points using an interface."
   ]
  },
  {
   "cell_type": "markdown",
   "metadata": {},
   "source": [
    "Matplotlib documentation provides the following code to define the function PolygonInteractor. This enables the shoreline points to be interactively refined in the same way as CoastSnap's original MATLAB code."
   ]
  },
  {
   "cell_type": "code",
   "execution_count": 4,
   "metadata": {},
   "outputs": [],
   "source": [
    "import numpy as np\n",
    "from matplotlib.lines import Line2D\n",
    "from matplotlib.artist import Artist\n",
    "\n",
    "\n",
    "def dist(x, y):\n",
    "    \"\"\"\n",
    "    Return the distance between two points.\n",
    "    \"\"\"\n",
    "    d = x - y\n",
    "    return np.sqrt(np.dot(d, d))\n",
    "\n",
    "\n",
    "def dist_point_to_segment(p, s0, s1):\n",
    "    \"\"\"\n",
    "    Get the distance of a point to a segment.\n",
    "      *p*, *s0*, *s1* are *xy* sequences\n",
    "    This algorithm from\n",
    "    http://geomalgorithms.com/a02-_lines.html\n",
    "    \"\"\"\n",
    "    v = s1 - s0\n",
    "    w = p - s0\n",
    "    c1 = np.dot(w, v)\n",
    "    if c1 <= 0:\n",
    "        return dist(p, s0)\n",
    "    c2 = np.dot(v, v)\n",
    "    if c2 <= c1:\n",
    "        return dist(p, s1)\n",
    "    b = c1 / c2\n",
    "    pb = s0 + b * v\n",
    "    return dist(p, pb)\n",
    "\n",
    "\n",
    "class PolygonInteractor:\n",
    "    \"\"\"\n",
    "    A polygon editor.\n",
    "\n",
    "    Key-bindings\n",
    "\n",
    "      't' toggle vertex markers on and off.  When vertex markers are on,\n",
    "          you can move them, delete them\n",
    "\n",
    "      'd' delete the vertex under point\n",
    "\n",
    "      'i' insert a vertex at point.  You must be within epsilon of the\n",
    "          line connecting two existing vertices\n",
    "\n",
    "    \"\"\"\n",
    "\n",
    "    showverts = True\n",
    "    epsilon = 5  # max pixel distance to count as a vertex hit\n",
    "\n",
    "    def __init__(self, ax, poly):\n",
    "        if poly.figure is None:\n",
    "            raise RuntimeError('You must first add the polygon to a figure '\n",
    "                               'or canvas before defining the interactor')\n",
    "        self.ax = ax\n",
    "        canvas = poly.figure.canvas\n",
    "        self.poly = poly\n",
    "\n",
    "        x, y = zip(*self.poly.xy)\n",
    "        self.line = Line2D(x, y,\n",
    "                           marker='o', markerfacecolor='r',\n",
    "                           animated=True)\n",
    "        self.ax.add_line(self.line)\n",
    "\n",
    "        self.cid = self.poly.add_callback(self.poly_changed)\n",
    "        self._ind = None  # the active vert\n",
    "\n",
    "        canvas.mpl_connect('draw_event', self.on_draw)\n",
    "        canvas.mpl_connect('button_press_event', self.on_button_press)\n",
    "        canvas.mpl_connect('key_press_event', self.on_key_press)\n",
    "        canvas.mpl_connect('button_release_event', self.on_button_release)\n",
    "        canvas.mpl_connect('motion_notify_event', self.on_mouse_move)\n",
    "        self.canvas = canvas\n",
    "\n",
    "    def on_draw(self, event):\n",
    "        self.background = self.canvas.copy_from_bbox(self.ax.bbox)\n",
    "        self.ax.draw_artist(self.poly)\n",
    "        self.ax.draw_artist(self.line)\n",
    "        # do not need to blit here, this will fire before the screen is\n",
    "        # updated\n",
    "\n",
    "    def poly_changed(self, poly):\n",
    "        \"\"\"This method is called whenever the pathpatch object is called.\"\"\"\n",
    "        # only copy the artist props to the line (except visibility)\n",
    "        vis = self.line.get_visible()\n",
    "        Artist.update_from(self.line, poly)\n",
    "        self.line.set_visible(vis)  # don't use the poly visibility state\n",
    "\n",
    "    def get_ind_under_point(self, event):\n",
    "        \"\"\"\n",
    "        Return the index of the point closest to the event position or *None*\n",
    "        if no point is within ``self.epsilon`` to the event position.\n",
    "        \"\"\"\n",
    "        # display coords\n",
    "        xy = np.asarray(self.poly.xy)\n",
    "        xyt = self.poly.get_transform().transform(xy)\n",
    "        xt, yt = xyt[:, 0], xyt[:, 1]\n",
    "        d = np.hypot(xt - event.x, yt - event.y)\n",
    "        indseq, = np.nonzero(d == d.min())\n",
    "        ind = indseq[0]\n",
    "\n",
    "        if d[ind] >= self.epsilon:\n",
    "            ind = None\n",
    "\n",
    "        return ind\n",
    "\n",
    "    def on_button_press(self, event):\n",
    "        \"\"\"Callback for mouse button presses.\"\"\"\n",
    "        if not self.showverts:\n",
    "            return\n",
    "        if event.inaxes is None:\n",
    "            return\n",
    "        if event.button != 1:\n",
    "            return\n",
    "        self._ind = self.get_ind_under_point(event)\n",
    "\n",
    "    def on_button_release(self, event):\n",
    "        \"\"\"Callback for mouse button releases.\"\"\"\n",
    "        if not self.showverts:\n",
    "            return\n",
    "        if event.button != 1:\n",
    "            return\n",
    "        self._ind = None\n",
    "\n",
    "    def on_key_press(self, event):\n",
    "        \"\"\"Callback for key presses.\"\"\"\n",
    "        if not event.inaxes:\n",
    "            return\n",
    "        if event.key == 't':\n",
    "            self.showverts = not self.showverts\n",
    "            self.line.set_visible(self.showverts)\n",
    "            if not self.showverts:\n",
    "                self._ind = None\n",
    "        elif event.key == 'd':\n",
    "            ind = self.get_ind_under_point(event)\n",
    "            if ind is not None:\n",
    "                self.poly.xy = np.delete(self.poly.xy,\n",
    "                                         ind, axis=0)\n",
    "                self.line.set_data(zip(*self.poly.xy))\n",
    "        elif event.key == 'i':\n",
    "            xys = self.poly.get_transform().transform(self.poly.xy)\n",
    "            p = event.x, event.y  # display coords\n",
    "            for i in range(len(xys) - 1):\n",
    "                s0 = xys[i]\n",
    "                s1 = xys[i + 1]\n",
    "                d = dist_point_to_segment(p, s0, s1)\n",
    "                if d <= self.epsilon:\n",
    "                    self.poly.xy = np.insert(\n",
    "                        self.poly.xy, i+1,\n",
    "                        [event.xdata, event.ydata],\n",
    "                        axis=0)\n",
    "                    self.line.set_data(zip(*self.poly.xy))\n",
    "                    break\n",
    "        if self.line.stale:\n",
    "            self.canvas.draw_idle()\n",
    "\n",
    "    def on_mouse_move(self, event):\n",
    "        \"\"\"Callback for mouse movements.\"\"\"\n",
    "        if not self.showverts:\n",
    "            return\n",
    "        if self._ind is None:\n",
    "            return\n",
    "        if event.inaxes is None:\n",
    "            return\n",
    "        if event.button != 1:\n",
    "            return\n",
    "        x, y = event.xdata, event.ydata\n",
    "\n",
    "        self.poly.xy[self._ind] = x, y\n",
    "        if self._ind == 0:\n",
    "            self.poly.xy[-1] = x, y\n",
    "        elif self._ind == len(self.poly.xy) - 1:\n",
    "            self.poly.xy[0] = x, y\n",
    "        self.line.set_data(zip(*self.poly.xy))\n",
    "\n",
    "        self.canvas.restore_region(self.background)\n",
    "        self.ax.draw_artist(self.poly)\n",
    "        self.ax.draw_artist(self.line)\n",
    "        self.canvas.blit(self.ax.bbox)"
   ]
  },
  {
   "cell_type": "markdown",
   "metadata": {},
   "source": [
    "Now that it is defined, call PolygonInteractor and correct any shoreline points:"
   ]
  },
  {
   "cell_type": "code",
   "execution_count": 5,
   "metadata": {},
   "outputs": [],
   "source": [
    "p = PolygonInteractor(ax, sl_poly)"
   ]
  },
  {
   "cell_type": "markdown",
   "metadata": {},
   "source": [
    "### 4. Get the new position of the shoreline points after adjustment."
   ]
  },
  {
   "cell_type": "markdown",
   "metadata": {},
   "source": [
    "After you have finalised the shoreline point positioning, extract the new coordinates of the shoreline:"
   ]
  },
  {
   "cell_type": "code",
   "execution_count": 6,
   "metadata": {},
   "outputs": [],
   "source": [
    "shoreline = ax.lines[0]\n",
    "newpos = shoreline.get_xydata()"
   ]
  },
  {
   "cell_type": "code",
   "execution_count": null,
   "metadata": {},
   "outputs": [],
   "source": []
  }
 ],
 "metadata": {
  "kernelspec": {
   "display_name": "Python 3",
   "language": "python",
   "name": "python3"
  },
  "language_info": {
   "codemirror_mode": {
    "name": "ipython",
    "version": 3
   },
   "file_extension": ".py",
   "mimetype": "text/x-python",
   "name": "python",
   "nbconvert_exporter": "python",
   "pygments_lexer": "ipython3",
   "version": "3.8.3"
  }
 },
 "nbformat": 4,
 "nbformat_minor": 4
}
